{
 "cells": [
  {
   "cell_type": "markdown",
   "metadata": {},
   "source": [
    "## How would you describe a dataset?\n",
    "\n",
    "In statistics, we want to describe a large dataset with a few values. From those values, we want to make inferences about the rest of the dataset. One technique we use to do this is to locate the average or central tendency of a dataset. \n",
    "\n",
    "When people refer to average in daily life, generally they are referring to the mean. However locating the central tendency of a dataset comes in a few flavours and it in itself is not enough to accurately describe it."
   ]
  },
  {
   "cell_type": "code",
   "execution_count": 23,
   "metadata": {},
   "outputs": [],
   "source": [
    "# Setting up the notebook\n",
    "\n",
    "import numpy as np\n",
    "import matplotlib.pyplot as plt\n",
    "from central_tendency import mode, right_skew\n",
    "np.random.seed(45556)\n",
    "\n",
    "def locations(arr):\n",
    "\n",
    "    print(\"Mean = {}, Mode = {}, Median = {}\".format(str(np.mean(arr)), str(mode(arr)), str(np.median(arr))))"
   ]
  },
  {
   "cell_type": "markdown",
   "metadata": {},
   "source": [
    "### Generate some Random Data"
   ]
  },
  {
   "cell_type": "code",
   "execution_count": 24,
   "metadata": {
    "scrolled": true
   },
   "outputs": [
    {
     "name": "stdout",
     "output_type": "stream",
     "text": [
      "Mean = 49.061, Mode = 7, Median = 48.0\n"
     ]
    }
   ],
   "source": [
    "n = 1000\n",
    "random_numbers = np.random.randint(0, 100, n)\n",
    "\n",
    "locations(random_numbers)\n"
   ]
  },
  {
   "cell_type": "markdown",
   "metadata": {},
   "source": [
    "How are these calculated? \n",
    "\n",
    "Mean = $\\frac{\\sum^n random\\_numbers}{n}$\n",
    "\n",
    "Median = $\\frac{n}{2}$\n",
    "\n",
    "Mode = $\\ The\\ most\\ common\\ (mode -> fashion -> on trend)$\n",
    "\n",
    "##### Simple enough right? \n",
    "\n",
    "So when we randomly generate numbers and calculate the mean, median and mode we get very different answers. Let's plot this in a histogram to see the distribution of numbers in our list of random_numbers."
   ]
  },
  {
   "cell_type": "code",
   "execution_count": 25,
   "metadata": {
    "scrolled": true
   },
   "outputs": [
    {
     "data": {
      "image/png": "[encoded data removed]",
      "text/plain": [
       "<Figure size 432x288 with 1 Axes>"
      ]
     },
     "metadata": {
      "needs_background": "light"
     },
     "output_type": "display_data"
    }
   ],
   "source": [
    "plt.hist(random_numbers, bins = 100)\n",
    "plt.title(\"A Histogram of 1000 Random Numbers\")\n",
    "plt.xlabel(\"Number\")\n",
    "plt.ylabel(\"Frequency\")\n",
    "plt.show()"
   ]
  },
  {
   "cell_type": "markdown",
   "metadata": {},
   "source": [
    "What we can see is that there really isn't a central tendency. Interesting. Let's look at a different dataset that was generated in a different way\n",
    "\n",
    "### Normal Distribution of Numbers\n"
   ]
  },
  {
   "cell_type": "code",
   "execution_count": 26,
   "metadata": {},
   "outputs": [
    {
     "data": {
      "image/png": "[encoded data removed]",
      "text/plain": [
       "<Figure size 432x288 with 1 Axes>"
      ]
     },
     "metadata": {
      "needs_background": "light"
     },
     "output_type": "display_data"
    }
   ],
   "source": [
    "\n",
    "normal_numbers = np.random.normal(50, 25, 1000)\n",
    "plt.hist(normal_numbers, bins = 100)\n",
    "plt.title(\"A Histogram of 1000 Numbers Sampled from a Normal Distribution\")\n",
    "plt.xlabel(\"Number\")\n",
    "plt.ylabel(\"Frequency\")\n",
    "plt.show()\n"
   ]
  },
  {
   "cell_type": "code",
   "execution_count": 27,
   "metadata": {},
   "outputs": [
    {
     "name": "stdout",
     "output_type": "stream",
     "text": [
      "Mean = 50.075, Mode = 54, Median = 50.0\n"
     ]
    }
   ],
   "source": [
    "locations(normal_numbers.astype(int))"
   ]
  },
  {
   "cell_type": "markdown",
   "metadata": {},
   "source": [
    "The mean, mode, and median are different. Look particularly at the mode. Can you maybe guess why it is so wildly different than the random number's mode? What do you think this means in terms of describing the middle or central tendency of these two lists of random numbers?\n",
    "\n",
    "### Skewed Numbers"
   ]
  },
  {
   "cell_type": "code",
   "execution_count": 28,
   "metadata": {},
   "outputs": [
    {
     "data": {
      "image/png": "[encoded data removed]",
      "text/plain": [
       "<Figure size 432x288 with 1 Axes>"
      ]
     },
     "metadata": {
      "needs_background": "light"
     },
     "output_type": "display_data"
    }
   ],
   "source": [
    "skewed_numbers = right_skew(0,100, n)\n",
    "\n",
    "\n",
    "plt.hist(skewed_numbers, bins = 100)\n",
    "plt.title(\"A Histogram of 1000 Numbers with a Right Skew\")\n",
    "plt.xlabel(\"Random number\")\n",
    "plt.ylabel(\"Frequency\")\n",
    "plt.show()"
   ]
  },
  {
   "cell_type": "markdown",
   "metadata": {},
   "source": [
    "We can see that the majority of the data is to the right-hand side of the histogram. What affect shall this have on the central tendency?"
   ]
  },
  {
   "cell_type": "code",
   "execution_count": 29,
   "metadata": {},
   "outputs": [
    {
     "name": "stdout",
     "output_type": "stream",
     "text": [
      "Mean = 68.474, Mode = 76, Median = 73.0\n"
     ]
    }
   ],
   "source": [
    "locations(skewed_numbers)"
   ]
  },
  {
   "cell_type": "markdown",
   "metadata": {},
   "source": [
    "Normally when we think about the average we think about the mean, but when the data is particularly skewed, the mean is not our friend. This is also true when the dataset contains outliers. There is not one way to measure the middle of a dataset and each is useful for a different scenario.\n",
    "\n"
   ]
  },
  {
   "cell_type": "code",
   "execution_count": 30,
   "metadata": {},
   "outputs": [
    {
     "name": "stdout",
     "output_type": "stream",
     "text": [
      "Random variance = 646.51, Normal variance = 855.78, Skewed variance = 531.67\n",
      "Random std deviation = 25.43, Normal std deviation = 29.25, Skewed std deviation = 23.06\n"
     ]
    }
   ],
   "source": [
    "# TBC\n",
    "print(\"Random variance = {}, Normal variance = {}, Skewed variance = {}\".format(round(normal_numbers.var(), 2), round(random_numbers.var(), 2), round(skewed_numbers.var(), 2) ))\n",
    "print(\"Random std deviation = {}, Normal std deviation = {}, Skewed std deviation = {}\".format(round(normal_numbers.std(), 2), round(random_numbers.std(), 2), round(skewed_numbers.std(), 2)))"
   ]
  },
  {
   "cell_type": "code",
   "execution_count": null,
   "metadata": {},
   "outputs": [],
   "source": []
  }
 ],
 "metadata": {
  "anaconda-cloud": {},
  "kernelspec": {
   "display_name": "Python [default]",
   "language": "python",
   "name": "python3"
  },
  "language_info": {
   "codemirror_mode": {
    "name": "ipython",
    "version": 3
   },
   "file_extension": ".py",
   "mimetype": "text/x-python",
   "name": "python",
   "nbconvert_exporter": "python",
   "pygments_lexer": "ipython3",
   "version": "3.5.6"
  }
 },
 "nbformat": 4,
 "nbformat_minor": 1
}
