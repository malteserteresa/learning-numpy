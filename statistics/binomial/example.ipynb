{
 "cells": [
  {
   "cell_type": "code",
   "execution_count": null,
   "outputs": [],
   "source": [
    "from binomial_distribution import pascals_triangle, nCx"
   ],
   "metadata": {
    "collapsed": false,
    "pycharm": {
     "name": "#%%\n"
    }
   }
  },
  {
   "cell_type": "markdown",
   "metadata": {},
   "source": [
    "To understand the binomial distribution completely, we're going to look at\n",
    "- What is a binomial variable\n",
    "- Walk through the classic case: the toss of a fair coin\n",
    "- Binomial Distribution\n",
    "- Problems "
   ]
  },
  {
   "cell_type": "markdown",
   "metadata": {},
   "source": [
    "The binomial probability distribution is the idea that the sample space for \n",
    "the event has two outcomes. For example, heads or tails of a coin (it doesn't \n",
    "even have to be fair), whether someone scores a goal or not or whether a \n",
    "patient has the flu."
   ]
  },
  {
   "cell_type": "markdown",
   "metadata": {},
   "source": [
    "A binomial variable is something that:\n",
    "- Has two outcomes\n",
    "- Is an independent event\n",
    "- Occurs a fixed number of times\n",
    "\n",
    "Example 1: If I have 200 patients and I choose 50 randomly. I want to see if \n",
    "the have the flu F. Is this a binomial variable?\n",
    "Example 2: I have a 70% likelihood of making a shot in basketball, S. If I \n",
    "throw the ball 10 times, is S a binomial variable?\n",
    "Example 3: Out of a deck of cards, I select 1 card. I want to know if this is \n",
    "a king or not K. Is this a binomial variable?\n",
    "\n",
    "Let's start with the classic example, the toss of a fair coin. The \n",
    "likelihood of both a head or a tails is 0.5. If we throw a coin 5 times, what\n",
    "is the likelihood we'll get N number of heads."
   ]
  },
  {
   "cell_type": "code",
   "execution_count": null,
   "outputs": [],
   "source": [
    "no_heads =    nCx(5, 0)\n",
    "one_head =    nCx(5, 1)\n",
    "two_heads =   nCx(5, 2)\n",
    "three_heads = nCx(5, 3)\n",
    "four_heads =  nCx(5, 4)\n",
    "five_heads =  nCx(5, 5)\n",
    "\n",
    "print(no_heads, one_head, two_heads, three_heads, four_heads, five_heads)"
   ],
   "metadata": {
    "collapsed": false,
    "pycharm": {
     "name": "#%%\n"
    }
   }
  },
  {
   "cell_type": "markdown",
   "metadata": {},
   "source": [
    "Pascals triangle gives us a nice visualization of what's going on in this \n",
    "binomial distribution."
   ]
  },
  {
   "cell_type": "code",
   "execution_count": 28,
   "metadata": {
    "pycharm": {
     "name": "#%%\n"
    }
   },
   "outputs": [
    {
     "name": "stdout",
     "output_type": "stream",
     "text": [
      "[1]\n",
      "[1, 1]\n",
      "[1, 2, 1]\n",
      "[1, 3, 3, 1]\n",
      "[1, 4, 6, 4, 1]\n",
      "[1, 5, 10, 10, 5, 1]\n",
      "[1, 6, 15, 20, 15, 6, 1]\n",
      "[1, 7, 21, 35, 35, 21, 7, 1]\n",
      "[1, 8, 28, 56, 70, 56, 28, 8, 1]\n",
      "[1, 9, 36, 84, 126, 126, 84, 36, 9, 1]\n",
      "[1, 10, 45, 120, 210, 252, 210, 120, 45, 10, 1]\n"
     ]
    }
   ],
   "source": [
    "order = 5\n",
    "for i in pascals_triangle(order):\n",
    "    print(i)"
   ]
  },
  {
   "cell_type": "markdown",
   "source": [
    "Of course, not everything in life is a 50:50 chance. This is where the \n",
    "binomial distribution's full equation becomes useful.\n",
    "\n"
   ],
   "metadata": {
    "collapsed": false,
    "pycharm": {
     "name": "#%% md\n"
    }
   }
  }
 ],
 "metadata": {
  "anaconda-cloud": {},
  "kernelspec": {
   "display_name": "Python [default]",
   "language": "python",
   "name": "python3"
  },
  "language_info": {
   "codemirror_mode": {
    "name": "ipython",
    "version": 3
   },
   "file_extension": ".py",
   "mimetype": "text/x-python",
   "name": "python",
   "nbconvert_exporter": "python",
   "pygments_lexer": "ipython3",
   "version": "3.5.6"
  },
  "pycharm": {
   "stem_cell": {
    "cell_type": "raw",
    "source": [],
    "metadata": {
     "collapsed": false
    }
   }
  }
 },
 "nbformat": 4,
 "nbformat_minor": 1
}
